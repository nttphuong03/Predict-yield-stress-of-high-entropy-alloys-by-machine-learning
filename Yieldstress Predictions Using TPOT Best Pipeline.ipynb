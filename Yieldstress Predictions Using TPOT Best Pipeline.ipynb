{
 "cells":[
  {
   "cell_type":"code",
   "source":[
    "pip install tpot"
   ],
   "execution_count":2,
   "outputs":[
    {
     "name":"stdout",
     "text":[
      "Collecting tpot\r\n",
      "  Downloading TPOT-0.11.7-py3-none-any.whl (87 kB)\r\n",
      "\u001b[?25l\r\r     |███▊                            | 10 kB 23.1 MB\/s eta 0:00:01\r     |███████▌                        | 20 kB 28.5 MB\/s eta 0:00:01\r     |███████████▎                    | 30 kB 31.4 MB\/s eta 0:00:01\r     |███████████████                 | 40 kB 34.8 MB\/s eta 0:00:01\r     |██████████████████▉             | 51 kB 27.0 MB\/s eta 0:00:01\r     |██████████████████████▋         | 61 kB 30.1 MB\/s eta 0:00:01\r     |██████████████████████████▎     | 71 kB 32.6 MB\/s eta 0:00:01\r     |██████████████████████████████  | 81 kB 34.9 MB\/s eta 0:00:01\r     |████████████████████████████████| 87 kB 8.7 MB\/s             \r\n",
      "\u001b[?25hRequirement already satisfied: scikit-learn>=0.22.0 in \/opt\/python\/envs\/default\/lib\/python3.8\/site-packages (from tpot) (1.0.1)\r\n",
      "Collecting update-checker>=0.16\r\n",
      "  Downloading update_checker-0.18.0-py3-none-any.whl (7.0 kB)\r\n",
      "Requirement already satisfied: numpy>=1.16.3 in \/opt\/python\/envs\/default\/lib\/python3.8\/site-packages (from tpot) (1.21.5)\r\n",
      "Requirement already satisfied: joblib>=0.13.2 in \/opt\/python\/envs\/default\/lib\/python3.8\/site-packages (from tpot) (1.1.0)\r\n",
      "Collecting deap>=1.2\r\n",
      "  Downloading deap-1.3.1-cp38-cp38-manylinux_2_5_x86_64.manylinux1_x86_64.manylinux_2_12_x86_64.manylinux2010_x86_64.whl (160 kB)\r\n",
      "\u001b[?25l\r\r     |██                              | 10 kB 34.7 MB\/s eta 0:00:01\r     |████                            | 20 kB 41.4 MB\/s eta 0:00:01\r     |██████▏                         | 30 kB 48.2 MB\/s eta 0:00:01\r     |████████▏                       | 40 kB 49.3 MB\/s eta 0:00:01\r     |██████████▏                     | 51 kB 51.3 MB\/s eta 0:00:01\r     |████████████▎                   | 61 kB 54.3 MB\/s eta 0:00:01\r     |██████████████▎                 | 71 kB 56.0 MB\/s eta 0:00:01\r     |████████████████▍               | 81 kB 57.3 MB\/s eta 0:00:01\r     |██████████████████▍             | 92 kB 57.8 MB\/s eta 0:00:01\r     |████████████████████▍           | 102 kB 58.2 MB\/s eta 0:00:01\r     |██████████████████████▌         | 112 kB 58.2 MB\/s eta 0:00:01\r     |████████████████████████▌       | 122 kB 58.2 MB\/s eta 0:00:01\r     |██████████████████████████▋     | 133 kB 58.2 MB\/s eta 0:00:01\r     |████████████████████████████▋   | 143 kB 58.2 MB\/s eta 0:00:01\r     |██████████████████████████████▋ | 153 kB 58.2 MB\/s eta 0:00:01\r     |████████████████████████████████| 160 kB 58.2 MB\/s            \r\n",
      "\u001b[?25hCollecting stopit>=1.1.1\r\n",
      "  Downloading stopit-1.1.2.tar.gz (18 kB)\r\n",
      "  Preparing metadata (setup.py) ... \u001b[?25l-\b \bdone\r\n",
      "\u001b[?25hRequirement already satisfied: scipy>=1.3.1 in \/opt\/python\/envs\/default\/lib\/python3.8\/site-packages (from tpot) (1.7.3)\r\n",
      "Requirement already satisfied: pandas>=0.24.2 in \/opt\/python\/envs\/default\/lib\/python3.8\/site-packages (from tpot) (1.3.5)\r\n",
      "Requirement already satisfied: xgboost>=1.1.0 in \/opt\/python\/envs\/default\/lib\/python3.8\/site-packages (from tpot) (1.5.1)\r\n",
      "Requirement already satisfied: tqdm>=4.36.1 in \/opt\/python\/envs\/default\/lib\/python3.8\/site-packages (from tpot) (4.64.0)\r\n",
      "Requirement already satisfied: pytz>=2017.3 in \/opt\/python\/envs\/default\/lib\/python3.8\/site-packages (from pandas>=0.24.2->tpot) (2022.1)\r\n",
      "Requirement already satisfied: python-dateutil>=2.7.3 in \/opt\/python\/envs\/default\/lib\/python3.8\/site-packages (from pandas>=0.24.2->tpot) (2.8.2)\r\n",
      "Requirement already satisfied: threadpoolctl>=2.0.0 in \/opt\/python\/envs\/default\/lib\/python3.8\/site-packages (from scikit-learn>=0.22.0->tpot) (3.1.0)\r\n",
      "Requirement already satisfied: requests>=2.3.0 in \/opt\/python\/envs\/default\/lib\/python3.8\/site-packages (from update-checker>=0.16->tpot) (2.26.0)\r\n",
      "Requirement already satisfied: six>=1.5 in \/opt\/python\/envs\/default\/lib\/python3.8\/site-packages (from python-dateutil>=2.7.3->pandas>=0.24.2->tpot) (1.16.0)\r\n",
      "Requirement already satisfied: certifi>=2017.4.17 in \/opt\/python\/envs\/default\/lib\/python3.8\/site-packages (from requests>=2.3.0->update-checker>=0.16->tpot) (2021.10.8)\r\n",
      "Requirement already satisfied: urllib3<1.27,>=1.21.1 in \/opt\/python\/envs\/default\/lib\/python3.8\/site-packages (from requests>=2.3.0->update-checker>=0.16->tpot) (1.26.9)\r\n",
      "Requirement already satisfied: idna<4,>=2.5 in \/opt\/python\/envs\/default\/lib\/python3.8\/site-packages (from requests>=2.3.0->update-checker>=0.16->tpot) (3.3)\r\n",
      "Requirement already satisfied: charset-normalizer~=2.0.0 in \/opt\/python\/envs\/default\/lib\/python3.8\/site-packages (from requests>=2.3.0->update-checker>=0.16->tpot) (2.0.12)\r\n",
      "Building wheels for collected packages: stopit\r\n",
      "  Building wheel for stopit (setup.py) ... \u001b[?25l-\b \bdone\r\n",
      "\u001b[?25h  Created wheel for stopit: filename=stopit-1.1.2-py3-none-any.whl size=11956 sha256=495df24ee48ec71c657fe1266f61f492fcf713c5061477fb4536afa6e11e9fb2\r\n",
      "  Stored in directory: \/home\/datalore\/.cache\/pip\/wheels\/a8\/bb\/8f\/6b9328d23c2dcedbfeb8498b9f650d55d463089e3b8fc0bfb2\r\n",
      "Successfully built stopit\r\n",
      "Installing collected packages: update-checker, stopit, deap, tpot\r\n",
      "Successfully installed deap-1.3.1 stopit-1.1.2 tpot-0.11.7 update-checker-0.18.0\r\n",
      "\u001b[33mWARNING: You are using pip version 21.3.1; however, version 22.1 is available.\r\n",
      "You should consider upgrading via the '\/opt\/python\/envs\/default\/bin\/python -m pip install --upgrade pip' command.\u001b[0m\r\n",
      "Note: you may need to restart the kernel to use updated packages.\n"
     ],
     "output_type":"stream"
    }
   ],
   "metadata":{
    "datalore":{
     "type":"CODE",
     "hide_input_from_viewers":false,
     "hide_output_from_viewers":false
    }
   }
  },
  {
   "cell_type":"code",
   "source":[
    "import matplotlib.pyplot as plt\n",
    "import numpy as np\n",
    "import pandas as pd\n",
    "from sklearn import datasets, ensemble\n",
    "from sklearn.inspection import permutation_importance\n",
    "from sklearn.metrics import mean_squared_error, r2_score,mean_absolute_error\n",
    "from sklearn import model_selection\n",
    "import seaborn as sns\n",
    "import random\n",
    "from sklearn.model_selection import KFold\n",
    "\n",
    "## for statistical tests\n",
    "import scipy\n",
    "import statsmodels.formula.api as smf\n",
    "import statsmodels.api as sm\n",
    "from sklearn.ensemble import ExtraTreesRegressor, GradientBoostingRegressor, RandomForestRegressor\n",
    "from sklearn.model_selection import train_test_split\n",
    "from sklearn.pipeline import make_pipeline, make_union\n",
    "from sklearn.preprocessing import StandardScaler\n",
    "from tpot.builtins import StackingEstimator\n",
    "from tpot.export_utils import set_param_recursive"
   ],
   "execution_count":1,
   "outputs":[
    
   ],
   "metadata":{
    "datalore":{
     "type":"CODE",
     "hide_input_from_viewers":false,
     "hide_output_from_viewers":false
    }
   }
  },
  {
   "cell_type":"code",
   "source":[
    "\n",
    "\n",
    "\n",
    "# NOTE: Make sure that the outcome column is labeled 'target' in the data file\n",
    "filename = \"YieldStress_database.csv\"\n",
    "file_stats_name = \"framework_stats.csv\"\n",
    "target_feature = \"YS (MPa)\"\n",
    "data_df = pd.read_csv(filename)\n",
    "data_df = data_df.iloc[:, 1:]\n",
    "tpot_data = data_df\n",
    "features = tpot_data.drop(target_feature, axis=1)\n",
    "training_features, testing_features, training_target, testing_target = \\\n",
    "            train_test_split(features, tpot_data[target_feature], random_state=1331)\n",
    "\n",
    "# Average CV score on the training set was: -256.0447252776591\n",
    "exported_pipeline = make_pipeline(\n",
    "    StandardScaler(),\n",
    "    StackingEstimator(estimator=GradientBoostingRegressor(alpha=0.85, learning_rate=0.1, \n",
    "    loss=\"ls\", max_depth=6, max_features=0.15000000000000002, min_samples_leaf=3, \n",
    "    min_samples_split=15, n_estimators=100, subsample=0.6000000000000001)),\n",
    "    StackingEstimator(estimator=ExtraTreesRegressor(bootstrap=True, max_features=0.15000000000000002, \n",
    "    min_samples_leaf=4, min_samples_split=2, n_estimators=100)),\n",
    "    RandomForestRegressor(bootstrap=True, max_features=0.3, min_samples_leaf=4, \n",
    "                          min_samples_split=6, n_estimators=100)\n",
    ")\n",
    "# Fix random state for all the steps in exported pipeline\n",
    "set_param_recursive(exported_pipeline.steps, 'random_state', 1331)\n",
    "\n",
    "exported_pipeline.fit(training_features, training_target)\n",
    "results = exported_pipeline.predict(testing_features)"
   ],
   "execution_count":2,
   "outputs":[
    {
     "name":"stderr",
     "text":[
      "\/opt\/python\/envs\/default\/lib\/python3.8\/site-packages\/sklearn\/ensemble\/_gb.py:286: FutureWarning: The loss 'ls' was deprecated in v1.0 and will be removed in version 1.2. Use 'squared_error' which is equivalent.\n",
      "  warnings.warn(\n"
     ],
     "output_type":"stream"
    }
   ],
   "metadata":{
    "datalore":{
     "type":"CODE",
     "hide_input_from_viewers":false,
     "hide_output_from_viewers":false
    }
   }
  },
  {
   "cell_type":"code",
   "source":[
    "r2 = r2_score(testing_target,results)\n",
    "MAE = mean_absolute_error(testing_target,results)\n",
    "MSE = mean_squared_error(testing_target,results)\n",
    "print(\"r2: \" + str(r2))\n",
    "print(\"MAE: \" + str(MAE))\n",
    "print(\"MSE: \" + str(MSE))\n",
    "\n",
    "\n",
    "\n",
    "\n",
    "\n",
    "\n",
    "    \n",
    "\n",
    "\n"
   ],
   "execution_count":4,
   "outputs":[
    {
     "name":"stdout",
     "text":[
      "r2: 0.5349709915486405\n",
      "MAE: 270.70748757700994\n",
      "MSE: 186816.47986304178\n"
     ],
     "output_type":"stream"
    }
   ],
   "metadata":{
    "datalore":{
     "type":"CODE",
     "hide_input_from_viewers":false,
     "hide_output_from_viewers":false
    }
   }
  },
  {
   "cell_type":"code",
   "source":[
    "\n",
    "\n",
    "best_model = exported_pipeline.steps[-1][1]\n",
    "feature_names = training_features.columns\n",
    "feature_importance = best_model.feature_importances_\n",
    "# sorted_idx = np.argsort(feature_importance)\n",
    "# pos = np.arange(sorted_idx.shape[0]) + 0.5\n",
    "# plt.barh(pos, feature_importance[sorted_idx], align=\"center\")\n",
    "# plt.yticks(pos, np.array(feature_names)[sorted_idx])\n",
    "# plt.title(\"Feature Importance (MDI) of Model \")\n",
    "\n",
    "# result = permutation_importance(\n",
    "#     best_model, testing_features, testing_target, n_repeats=10, random_state=13, n_jobs=2\n",
    "# )\n",
    "# sorted_idx = result.importances_mean.argsort()\n",
    "# plt.boxplot(\n",
    "#     result.importances[sorted_idx].T,\n",
    "#     vert=False,\n",
    "#     labels=np.array(feature_names)[sorted_idx],\n",
    "# )\n",
    "# plt.title(\"Permutation Importance (test set)\")\n",
    "# fig.tight_layout()\n",
    "# plt.show()"
   ],
   "execution_count":9,
   "outputs":[
    
   ],
   "metadata":{
    "datalore":{
     "type":"CODE",
     "hide_input_from_viewers":false,
     "hide_output_from_viewers":false
    }
   }
  },
  {
   "cell_type":"code",
   "source":[
    "# Zip coefficients and names together and make a DataFrame\n",
    "zipped = zip(feature_names, feature_importance)\n",
    "df = pd.DataFrame(zipped, columns=[\"feature\", \"value\"])\n",
    "# Sort the features by the absolute value of their coefficient\n",
    "df[\"abs_value\"] = df[\"value\"].apply(lambda x: abs(x))\n",
    "df[\"colors\"] = df[\"value\"].apply(lambda x: \"green\" if x > 0 else \"red\")\n",
    "df = df.sort_values(\"abs_value\", ascending=False)\n",
    "fig, ax = plt.subplots(1, 1, figsize=(12, 7))\n",
    "sns.barplot(x=\"feature\",\n",
    "            y=\"value\",\n",
    "            data=df.head(20),\n",
    "           palette=df.head(20)[\"colors\"])\n",
    "ax.set_xticklabels(ax.get_xticklabels(), rotation=90, fontsize=20)\n",
    "ax.set_title(\"Feature Importance\", fontsize=25)\n",
    "ax.set_ylabel(\"Coef\", fontsize=22)\n",
    "ax.set_xlabel(\"Feature Name\", fontsize=22)"
   ],
   "execution_count":11,
   "outputs":[
    {
     "data":{
      "text\/plain":[
       "Text(0.5, 0, 'Feature Name')"
      ],
      "image\/png":"[encoded data removed]"
     },
     "metadata":{
      "image\/png":{
       
      }
     },
     "output_type":"display_data"
    }
   ],
   "metadata":{
    "datalore":{
     "type":"CODE",
     "hide_input_from_viewers":false,
     "hide_output_from_viewers":false
    }
   }
  }
 ],
 "metadata":{
  "datalore":{
   "version":1,
   "computation_mode":"JUPYTER",
   "package_manager":"pip",
   "base_environment":"default",
   "packages":[
    
   ]
  }
 },
 "nbformat":4,
 "nbformat_minor":4
}